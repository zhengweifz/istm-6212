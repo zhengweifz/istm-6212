{
 "cells": [
  {
   "cell_type": "code",
   "execution_count": 55,
   "metadata": {
    "collapsed": true
   },
   "outputs": [],
   "source": [
    "import pandas as pd\n",
    "import psycopg2 as pg\n",
    "import sqlalchemy as sq"
   ]
  },
  {
   "cell_type": "code",
   "execution_count": 53,
   "metadata": {
    "collapsed": true
   },
   "outputs": [],
   "source": [
    "pd.options.display.max_columns = 30\n",
    "!wget https://data.baltimorecity.gov/api/views/n4ma-fj3m/rows.csv?accessType=DOWNLOAD -O Parking_Citations.csv"
   ]
  },
  {
   "cell_type": "code",
   "execution_count": 60,
   "metadata": {
    "collapsed": false
   },
   "outputs": [
    {
     "name": "stderr",
     "output_type": "stream",
     "text": [
      "/Users/weizheng/anaconda/lib/python3.5/site-packages/IPython/core/interactiveshell.py:2717: DtypeWarning: Columns (2) have mixed types. Specify dtype option on import or set low_memory=False.\n",
      "  interactivity=interactivity, compiler=compiler, result=result)\n"
     ]
    }
   ],
   "source": [
    "df = pd.read_csv('Parking_Citations.csv')"
   ]
  },
  {
   "cell_type": "code",
   "execution_count": 61,
   "metadata": {
    "collapsed": false
   },
   "outputs": [],
   "source": [
    "# convert to date type\n",
    "df.ImportDate = df.ImportDate.str.replace(' \\+0000', '')\n",
    "df.NoticeDate = pd.to_datetime(df.NoticeDate, format=\"%m/%d/%Y\")\n",
    "df.PenaltyDate = pd.to_datetime(df.PenaltyDate, format=\"%m/%d/%Y\")\n",
    "df.ImportDate = pd.to_datetime(df.ImportDate, format=\"%m/%d/%Y %H:%M:%S %p\")\n",
    "df.ViolDate = pd.to_datetime(df.ViolDate, format=\"%m/%d/%Y %H:%M:%S %p\")\n",
    "# split Location\n",
    "df['Latitude'] = df.Location.str.split(',').str.get(0).str.replace('\\(','').map(lambda s: float(s))\n",
    "df['Longitude'] = df.Location.str.split(',').str.get(1).str.replace('\\)','').map(lambda s: float(s))\n",
    "# remove $ sign\n",
    "df[['ViolFine', 'Balance','OpenFine','OpenPenalty']] = df[['ViolFine', 'Balance','OpenFine','OpenPenalty']].applymap(lambda s: float(str(s).replace('$', '')))\n"
   ]
  },
  {
   "cell_type": "code",
   "execution_count": 62,
   "metadata": {
    "collapsed": false
   },
   "outputs": [
    {
     "data": {
      "text/plain": [
       "Citation                    int64\n",
       "Tag                        object\n",
       "ExpMM                      object\n",
       "ExpYY                     float64\n",
       "State                      object\n",
       "Make                       object\n",
       "Address                    object\n",
       "ViolCode                  float64\n",
       "Description                object\n",
       "ViolFine                  float64\n",
       "ViolDate           datetime64[ns]\n",
       "Balance                   float64\n",
       "PenaltyDate        datetime64[ns]\n",
       "OpenFine                  float64\n",
       "OpenPenalty               float64\n",
       "NoticeDate         datetime64[ns]\n",
       "ImportDate         datetime64[ns]\n",
       "Neighborhood               object\n",
       "PoliceDistrict             object\n",
       "CouncilDistrict           float64\n",
       "Location                   object\n",
       "Latitude                  float64\n",
       "Longitude                 float64\n",
       "dtype: object"
      ]
     },
     "execution_count": 62,
     "metadata": {},
     "output_type": "execute_result"
    }
   ],
   "source": [
    "df.dtypes"
   ]
  },
  {
   "cell_type": "code",
   "execution_count": 58,
   "metadata": {
    "collapsed": false
   },
   "outputs": [
    {
     "data": {
      "text/html": [
       "<div>\n",
       "<table border=\"1\" class=\"dataframe\">\n",
       "  <thead>\n",
       "    <tr style=\"text-align: right;\">\n",
       "      <th></th>\n",
       "      <th>Citation</th>\n",
       "      <th>Tag</th>\n",
       "      <th>ExpMM</th>\n",
       "      <th>ExpYY</th>\n",
       "      <th>State</th>\n",
       "      <th>Make</th>\n",
       "      <th>Address</th>\n",
       "      <th>ViolCode</th>\n",
       "      <th>Description</th>\n",
       "      <th>ViolFine</th>\n",
       "      <th>...</th>\n",
       "      <th>OpenFine</th>\n",
       "      <th>OpenPenalty</th>\n",
       "      <th>NoticeDate</th>\n",
       "      <th>ImportDate</th>\n",
       "      <th>Neighborhood</th>\n",
       "      <th>PoliceDistrict</th>\n",
       "      <th>CouncilDistrict</th>\n",
       "      <th>Location</th>\n",
       "      <th>Latitude</th>\n",
       "      <th>Longitude</th>\n",
       "    </tr>\n",
       "  </thead>\n",
       "  <tbody>\n",
       "    <tr>\n",
       "      <th>0</th>\n",
       "      <td>22301139</td>\n",
       "      <td>T879530T</td>\n",
       "      <td>11</td>\n",
       "      <td>13.0</td>\n",
       "      <td>MD</td>\n",
       "      <td>LEXUS</td>\n",
       "      <td>800 CAROLINE ST</td>\n",
       "      <td>20.0</td>\n",
       "      <td>Passenger Loading Zone</td>\n",
       "      <td>32.0</td>\n",
       "      <td>...</td>\n",
       "      <td>32.0</td>\n",
       "      <td>0.0</td>\n",
       "      <td>NaT</td>\n",
       "      <td>2013-11-13 04:03:00</td>\n",
       "      <td>NaN</td>\n",
       "      <td>NaN</td>\n",
       "      <td>NaN</td>\n",
       "      <td>NaN</td>\n",
       "      <td>NaN</td>\n",
       "      <td>NaN</td>\n",
       "    </tr>\n",
       "  </tbody>\n",
       "</table>\n",
       "<p>1 rows × 23 columns</p>\n",
       "</div>"
      ],
      "text/plain": [
       "   Citation       Tag ExpMM  ExpYY State   Make          Address  ViolCode  \\\n",
       "0  22301139  T879530T    11   13.0    MD  LEXUS  800 CAROLINE ST      20.0   \n",
       "\n",
       "              Description  ViolFine    ...     OpenFine  OpenPenalty  \\\n",
       "0  Passenger Loading Zone      32.0    ...         32.0          0.0   \n",
       "\n",
       "  NoticeDate          ImportDate  Neighborhood PoliceDistrict CouncilDistrict  \\\n",
       "0        NaT 2013-11-13 04:03:00           NaN            NaN             NaN   \n",
       "\n",
       "  Location Latitude  Longitude  \n",
       "0      NaN      NaN        NaN  \n",
       "\n",
       "[1 rows x 23 columns]"
      ]
     },
     "execution_count": 58,
     "metadata": {},
     "output_type": "execute_result"
    }
   ],
   "source": [
    "df.head(1)"
   ]
  },
  {
   "cell_type": "code",
   "execution_count": 20,
   "metadata": {
    "collapsed": false
   },
   "outputs": [
    {
     "data": {
      "text/plain": [
       "Timestamp('2016-11-25 10:13:00')"
      ]
     },
     "execution_count": 20,
     "metadata": {},
     "output_type": "execute_result"
    }
   ],
   "source": [
    "%load_ext sql\n",
    "!echo 'redspot' | sudo -S service postgresql restart\n",
    "!createdb -U dbuser project3\n",
    "%sql postgresql://dbuser@localhost:5432/project3\n",
    "engine = sq.create_engine(\"postgresql+psycopg2://dbuser@localhost:5432/project3\")\n",
    "df_fact.to_sql('citation', engine, if_exists='replace', index=False)"
   ]
  }
 ],
 "metadata": {
  "anaconda-cloud": {},
  "kernelspec": {
   "display_name": "Python [conda root]",
   "language": "python",
   "name": "conda-root-py"
  },
  "language_info": {
   "codemirror_mode": {
    "name": "ipython",
    "version": 3
   },
   "file_extension": ".py",
   "mimetype": "text/x-python",
   "name": "python",
   "nbconvert_exporter": "python",
   "pygments_lexer": "ipython3",
   "version": "3.5.2"
  }
 },
 "nbformat": 4,
 "nbformat_minor": 1
}
